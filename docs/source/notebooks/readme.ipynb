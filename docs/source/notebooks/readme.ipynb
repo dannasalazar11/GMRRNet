{
 "cells": [
  {
   "cell_type": "markdown",
   "id": "0",
   "metadata": {},
   "source": [
    "# GMRRNet"
   ]
  },
  {
   "cell_type": "markdown",
   "id": "44cd79f1-34d6-4369-9482-9597264caf01",
   "metadata": {},
   "source": [
    "esta red es espectacular"
   ]
  },
  {
   "cell_type": "code",
   "execution_count": null,
   "id": "5ffc0565-411a-4e91-a387-5b352fbb6de0",
   "metadata": {},
   "outputs": [],
   "source": [
    "import numpy as np"
   ]
  },
  {
   "cell_type": "code",
   "execution_count": null,
   "id": "9ad1e800-aa72-43bb-9ec7-aeb63c95d149",
   "metadata": {},
   "outputs": [],
   "source": []
  }
 ],
 "metadata": {
  "kernelspec": {
   "display_name": "Python 3 (ipykernel)",
   "language": "python",
   "name": "python3"
  },
  "language_info": {
   "codemirror_mode": {
    "name": "ipython",
    "version": 3
   },
   "file_extension": ".py",
   "mimetype": "text/x-python",
   "name": "python",
   "nbconvert_exporter": "python",
   "pygments_lexer": "ipython3",
   "version": "3.12.4"
  }
 },
 "nbformat": 4,
 "nbformat_minor": 5
}
