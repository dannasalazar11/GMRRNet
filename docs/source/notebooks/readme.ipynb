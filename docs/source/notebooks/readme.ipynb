{
 "cells": [
  {
   "cell_type": "markdown",
   "id": "0",
   "metadata": {},
   "source": [
    "# GMRRNet\n",
    "\n",
    "## Instalar librería y modelo"
   ]
  },
  {
   "cell_type": "markdown",
   "id": "44cd79f1-34d6-4369-9482-9597264caf01",
   "metadata": {},
   "source": [
    "Para poder tener acceso al software basta con tener la siguiente linea dentro de tu cuaderno"
   ]
  },
  {
   "cell_type": "code",
   "execution_count": null,
   "id": "5ffc0565-411a-4e91-a387-5b352fbb6de0",
   "metadata": {},
   "outputs": [],
   "source": [
    "!pip install -U git+https://github.com/dannasalazar11/GMRRNet"
   ]
  },
  {
   "cell_type": "markdown",
   "id": "5ed9f0a1",
   "metadata": {},
   "source": [
    "Una vez instalada, se podrá llamar la clase con la siguiente linea"
   ]
  },
  {
   "cell_type": "code",
   "execution_count": null,
   "id": "9ad1e800-aa72-43bb-9ec7-aeb63c95d149",
   "metadata": {},
   "outputs": [],
   "source": [
    "from gmrrnet.model import GMRRNet"
   ]
  },
  {
   "cell_type": "markdown",
   "id": "36a6075d",
   "metadata": {},
   "source": [
    "## Entrenamiento y testeo"
   ]
  },
  {
   "cell_type": "markdown",
   "id": "ff7799b9",
   "metadata": {},
   "source": [
    "El entrenamiento se realiza como para cualquier modelo de keras (teniendo en cuenta que ya hay datos de entrenamiento y de test). Para ver el ejemplo completo con la base de datos GIGA_MI_ME acceda al ejemplo en GMRRNet\\docs\\source\\notebooks\\01-example.ipynb"
   ]
  },
  {
   "cell_type": "code",
   "execution_count": null,
   "id": "9e40a0f2",
   "metadata": {},
   "outputs": [],
   "source": [
    "import tensorflow as tf\n",
    "\n",
    "model = GMRRNet()\n",
    "\n",
    "history = model.fit(X_train,y_train, epochs=150, batch_size=32, verbose=1)"
   ]
  },
  {
   "cell_type": "markdown",
   "id": "ede1d3b5",
   "metadata": {},
   "source": [
    "from sklearn.metrics import accuracy_score\n",
    "y_pred = model.predict(X_test)[0]\n",
    "accuracy_score(np.argmax(y_test, axis=1), np.argmax(y_pred, axis=1))"
   ]
  },
  {
   "cell_type": "markdown",
   "id": "ab2cff38",
   "metadata": {},
   "source": [
    "## Visualización e interpretabilidad\n",
    "\n",
    "### Topoplots"
   ]
  },
  {
   "cell_type": "code",
   "execution_count": null,
   "id": "8182d3e6",
   "metadata": {},
   "outputs": [],
   "source": [
    "!pip install gmrrnet[dev]"
   ]
  },
  {
   "cell_type": "code",
   "execution_count": null,
   "id": "d9e11c0d",
   "metadata": {},
   "outputs": [],
   "source": [
    "from gmrrnet.utils import topoplot\n",
    "from gmrrnet.utils import plot_circos\n",
    "import numpy as np\n",
    "import tensorflow as tf\n",
    "import matplotlib.pyplot as plt"
   ]
  },
  {
   "cell_type": "markdown",
   "id": "bef464e7",
   "metadata": {},
   "source": [
    "kernel1 = tf.keras.Model(inputs=model.inputs,outputs=model.get_layer('gaussian_layer_1').output) \n",
    "kernel2 = tf.keras.Model(inputs=model.inputs,outputs=model.get_layer('gaussian_layer_2').output) \n",
    "kernel3 = tf.keras.Model(inputs=model.inputs,outputs=model.get_layer('gaussian_layer_3').output)\n",
    "\n",
    "idx_left = tf.squeeze(tf.where(np.argmax(y_train, axis=1)==0))\n",
    "idx_right = tf.squeeze(tf.where(np.argmax(y_train, axis=1)==1))\n",
    "\n",
    "### kernel 1\n",
    "X_k1 = kernel1.predict(tf.expand_dims(X_train[0], axis=0))\n",
    "X_k1 = tf.reduce_mean(X_k1, axis=-1) # promedio por filtros\n",
    "\n",
    "X_k1_left = tf.reduce_mean(tf.gather(X_k1, idx_left), axis=0) # promedio de clase izq\n",
    "X_k1_right = tf.reduce_mean(tf.gather(X_k1, idx_right), axis=0) # promedio de clase der\n",
    "\n",
    "### Kernel 2\n",
    "X_k2 = kernel2.predict(X_train)\n",
    "X_k2 = tf.reduce_mean(X_k2, axis=-1) # promedio por filtros\n",
    "\n",
    "X_k2_left = tf.reduce_mean(tf.gather(X_k2, idx_left), axis=0) # promedio de clase izq\n",
    "X_k2_right = tf.reduce_mean(tf.gather(X_k2, idx_right), axis=0) # promedio de clase der\n",
    "\n",
    "### Kernel 3\n",
    "X_k3 = kernel3.predict(X_train)\n",
    "X_k3 = tf.reduce_mean(X_k3, axis=-1) # promedio por filtros\n",
    "\n",
    "X_k3_left = tf.reduce_mean(tf.gather(X_k3, idx_left), axis=0) # promedio de clase izq\n",
    "X_k3_right = tf.reduce_mean(tf.gather(X_k3, idx_right), axis=0) # promedio de clase der"
   ]
  },
  {
   "cell_type": "code",
   "execution_count": null,
   "id": "f8f6647c",
   "metadata": {},
   "outputs": [],
   "source": [
    "fig, axs = plt.subplots(3,1,figsize=[40,10])\n",
    "\n",
    "axs[0].set_title(\"Differences\")\n",
    "\n",
    "axs[0].set_ylabel(\"$\\sigma=0.8$\")\n",
    "axs[1].set_ylabel(\"$\\sigma=2.2$\")\n",
    "axs[2].set_ylabel(\"$\\sigma=4.8$\")\n",
    "\n",
    "# diferencias\n",
    "diferencia1 = tf.abs(tf.subtract(tf.reduce_mean(X_k1_left,axis=0).numpy() , tf.reduce_mean(X_k1_right,axis=0).numpy()))\n",
    "diferencia2 = tf.abs(tf.subtract(tf.reduce_mean(X_k2_left,axis=0).numpy() , tf.reduce_mean(X_k2_right,axis=0).numpy()))\n",
    "diferencia3 = tf.abs(tf.subtract(tf.reduce_mean(X_k3_left,axis=0).numpy() , tf.reduce_mean(X_k3_right,axis=0).numpy()))\n",
    "max_dif = tf.reduce_max(tf.stack([diferencia1, diferencia2, diferencia3]))\n",
    "\n",
    "vmax = tf.reduce_max(tf.stack([tf.reduce_mean(X_k1_left,axis=0),tf.reduce_mean(X_k1_right,axis=0),tf.reduce_mean(X_k2_left,axis=0),tf.reduce_mean(X_k2_right,axis=0),tf.reduce_mean(X_k3_left,axis=0),tf.reduce_mean(X_k3_right,axis=0)], axis=0)) \n",
    "\n",
    "topoplot(diferencia1, eeg_ch_names, contours=3, names=eeg_ch_names, sensors=False, ax= axs[0], vlim=(0,max_dif))\n",
    "topoplot(diferencia2, eeg_ch_names, contours=3, names=eeg_ch_names, sensors=False, ax=axs[1], vlim=(0,max_dif))\n",
    "topoplot(diferencia3, eeg_ch_names, contours=3, names=eeg_ch_names, sensors=False, ax=axs[2], vlim=(0,max_dif))\n",
    "\n",
    "plt.savefig('heads_43.pdf', bbox_inches='tight')\n",
    "plt.show()"
   ]
  },
  {
   "cell_type": "markdown",
   "id": "531a2338",
   "metadata": {},
   "source": [
    "### Conectividad circos"
   ]
  },
  {
   "cell_type": "code",
   "execution_count": null,
   "id": "8e1c37b0",
   "metadata": {},
   "outputs": [],
   "source": [
    "areas = {\n",
    "    'Frontal': ['Fpz', 'AFz', 'Fz', 'FCz'],\n",
    "    'Frontal Right': ['Fp2','AF4','AF8','F2','F4','F6','F8',],\n",
    "    'Central Right': ['FC2','FC4','FC6','FT8','C2','C4','C6','T8','CP2','CP4','CP6','TP8',],\n",
    "    'Posterior Right': ['P2','P4','P6','P8','P10','PO4','PO8','O2',],\n",
    "    #'Central': ['Cz'],\n",
    "    'Posterior': ['CPz','Pz', 'Cz','POz','Oz','Iz',],\n",
    "    'Posterior Left': ['P1','P3','P5','P7','P9','PO3','PO7','O1',],\n",
    "    'Central Left': ['FC1','FC3','FC5','FT7','C1','C3','C5','T7','CP1','CP3','CP5','TP7',],\n",
    "    'Frontal Left': ['Fp1','AF3','AF7','F1','F3','F5','F7',],\n",
    "}\n",
    "\n",
    "plot_circos(X_k2_left, eeg_ch_names, areas, threshold=0.75)"
   ]
  }
 ],
 "metadata": {
  "kernelspec": {
   "display_name": "Python 3 (ipykernel)",
   "language": "python",
   "name": "python3"
  },
  "language_info": {
   "codemirror_mode": {
    "name": "ipython",
    "version": 3
   },
   "file_extension": ".py",
   "mimetype": "text/x-python",
   "name": "python",
   "nbconvert_exporter": "python",
   "pygments_lexer": "ipython3",
   "version": "3.12.4"
  }
 },
 "nbformat": 4,
 "nbformat_minor": 5
}
